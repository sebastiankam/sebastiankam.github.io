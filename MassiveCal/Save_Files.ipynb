{
  "nbformat": 4,
  "nbformat_minor": 0,
  "metadata": {
    "colab": {
      "provenance": []
    },
    "kernelspec": {
      "name": "python3",
      "display_name": "Python 3"
    },
    "language_info": {
      "name": "python"
    }
  },
  "cells": [
    {
      "cell_type": "code",
      "execution_count": 9,
      "metadata": {
        "id": "3M2iaFqEJmI1"
      },
      "outputs": [],
      "source": [
        "import openpyxl\n",
        "from openpyxl.utils import get_column_letter\n",
        "from datetime import datetime\n",
        "import os\n",
        "\n",
        "# Source workbook name\n",
        "source_workbook_name = \"Temp.xlsx\"\n",
        "\n",
        "# Get the current date and time\n",
        "current_datetime = datetime.now()\n",
        "datetime_string = current_datetime.strftime(\"%Y%m%d%H%M\")\n",
        "\n",
        "# Destination workbook name\n",
        "destination_workbook_name = f\"Backup Log - {datetime_string}.xlsx\"\n",
        "save_directory = \"Backup Log\"\n",
        "\n",
        "# Create the save directory if it doesn't exist\n",
        "os.makedirs(save_directory, exist_ok=True)\n",
        "\n",
        "# Load the source workbook\n",
        "source_workbook = openpyxl.load_workbook(source_workbook_name, data_only=True)\n",
        "\n",
        "# Create a new workbook for backup\n",
        "backup_workbook = openpyxl.Workbook()\n",
        "default_sheet = backup_workbook.active\n",
        "backup_workbook.remove(default_sheet)\n",
        "\n",
        "# Copy values from source workbook to backup workbook\n",
        "for sheet_name in [\"Test1\", \"Test2\", \"Test3\", \"Test4\", \"Test5\"]:\n",
        "    source_sheet = source_workbook[sheet_name]\n",
        "    backup_sheet = backup_workbook.create_sheet(title=sheet_name)\n",
        "\n",
        "    for row in source_sheet.iter_rows(values_only=True):\n",
        "        backup_sheet.append(row)\n",
        "\n",
        "# Save the backup workbook\n",
        "backup_workbook.save(os.path.join(save_directory, destination_workbook_name))"
      ]
    },
    {
      "cell_type": "code",
      "source": [
        "import openpyxl\n",
        "\n",
        "# Existing workbook name\n",
        "existing_workbook_name = \"Temp.xlsx\"\n",
        "\n",
        "# Load the existing workbook\n",
        "existing_workbook = openpyxl.load_workbook(existing_workbook_name)\n",
        "\n",
        "# Remove existing sheets named \"Test1\" to \"Test5\"\n",
        "for sheet_name in [\"Test1\", \"Test2\", \"Test3\", \"Test4\", \"Test5\"]:\n",
        "    if sheet_name in existing_workbook.sheetnames:\n",
        "        existing_workbook.remove(existing_workbook[sheet_name])\n",
        "\n",
        "# Create new sheets named \"Test1\" to \"Test5\"\n",
        "for sheet_name in [\"Test1\", \"Test2\", \"Test3\", \"Test4\", \"Test5\"]:\n",
        "    existing_workbook.create_sheet(title=sheet_name)\n",
        "\n",
        "# Save the modified workbook\n",
        "existing_workbook.save(existing_workbook_name)"
      ],
      "metadata": {
        "id": "SwZVZzfmLZ3L"
      },
      "execution_count": 10,
      "outputs": []
    },
    {
      "cell_type": "markdown",
      "source": [
        "# 新增區段"
      ],
      "metadata": {
        "id": "tv9urJDMJ7sB"
      }
    }
  ]
}